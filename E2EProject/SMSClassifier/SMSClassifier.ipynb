{
 "cells": [
  {
   "cell_type": "markdown",
   "id": "757f7a0b",
   "metadata": {},
   "source": [
    "# SMS Spam-Ham Classification"
   ]
  },
  {
   "cell_type": "code",
   "execution_count": 1,
   "id": "35443c93",
   "metadata": {},
   "outputs": [],
   "source": [
    "import pandas as pd\n",
    "import numpy as np"
   ]
  },
  {
   "cell_type": "code",
   "execution_count": 2,
   "id": "77b757ec",
   "metadata": {},
   "outputs": [],
   "source": [
    "df = pd.read_csv(\"SMSSpamCollection\",sep='\\t',names=['label','message'])  #Reading the file using separator as 'Tab'"
   ]
  },
  {
   "cell_type": "code",
   "execution_count": 3,
   "id": "303c8e2f",
   "metadata": {},
   "outputs": [
    {
     "data": {
      "text/html": [
       "<div>\n",
       "<style scoped>\n",
       "    .dataframe tbody tr th:only-of-type {\n",
       "        vertical-align: middle;\n",
       "    }\n",
       "\n",
       "    .dataframe tbody tr th {\n",
       "        vertical-align: top;\n",
       "    }\n",
       "\n",
       "    .dataframe thead th {\n",
       "        text-align: right;\n",
       "    }\n",
       "</style>\n",
       "<table border=\"1\" class=\"dataframe\">\n",
       "  <thead>\n",
       "    <tr style=\"text-align: right;\">\n",
       "      <th></th>\n",
       "      <th>label</th>\n",
       "      <th>message</th>\n",
       "    </tr>\n",
       "  </thead>\n",
       "  <tbody>\n",
       "    <tr>\n",
       "      <th>0</th>\n",
       "      <td>ham</td>\n",
       "      <td>Go until jurong point, crazy.. Available only ...</td>\n",
       "    </tr>\n",
       "    <tr>\n",
       "      <th>1</th>\n",
       "      <td>ham</td>\n",
       "      <td>Ok lar... Joking wif u oni...</td>\n",
       "    </tr>\n",
       "    <tr>\n",
       "      <th>2</th>\n",
       "      <td>spam</td>\n",
       "      <td>Free entry in 2 a wkly comp to win FA Cup fina...</td>\n",
       "    </tr>\n",
       "    <tr>\n",
       "      <th>3</th>\n",
       "      <td>ham</td>\n",
       "      <td>U dun say so early hor... U c already then say...</td>\n",
       "    </tr>\n",
       "    <tr>\n",
       "      <th>4</th>\n",
       "      <td>ham</td>\n",
       "      <td>Nah I don't think he goes to usf, he lives aro...</td>\n",
       "    </tr>\n",
       "  </tbody>\n",
       "</table>\n",
       "</div>"
      ],
      "text/plain": [
       "  label                                            message\n",
       "0   ham  Go until jurong point, crazy.. Available only ...\n",
       "1   ham                      Ok lar... Joking wif u oni...\n",
       "2  spam  Free entry in 2 a wkly comp to win FA Cup fina...\n",
       "3   ham  U dun say so early hor... U c already then say...\n",
       "4   ham  Nah I don't think he goes to usf, he lives aro..."
      ]
     },
     "execution_count": 3,
     "metadata": {},
     "output_type": "execute_result"
    }
   ],
   "source": [
    "df.head()"
   ]
  },
  {
   "cell_type": "code",
   "execution_count": 4,
   "id": "f86964e4",
   "metadata": {},
   "outputs": [
    {
     "data": {
      "text/plain": [
       "(5572, 2)"
      ]
     },
     "execution_count": 4,
     "metadata": {},
     "output_type": "execute_result"
    }
   ],
   "source": [
    "df.shape"
   ]
  },
  {
   "cell_type": "code",
   "execution_count": 5,
   "id": "b4c0d119",
   "metadata": {},
   "outputs": [
    {
     "name": "stdout",
     "output_type": "stream",
     "text": [
      "<class 'pandas.core.frame.DataFrame'>\n",
      "RangeIndex: 5572 entries, 0 to 5571\n",
      "Data columns (total 2 columns):\n",
      " #   Column   Non-Null Count  Dtype \n",
      "---  ------   --------------  ----- \n",
      " 0   label    5572 non-null   object\n",
      " 1   message  5572 non-null   object\n",
      "dtypes: object(2)\n",
      "memory usage: 87.2+ KB\n"
     ]
    }
   ],
   "source": [
    "df.info()    #Checking null values"
   ]
  },
  {
   "cell_type": "code",
   "execution_count": 6,
   "id": "87fa5ab7",
   "metadata": {},
   "outputs": [
    {
     "data": {
      "text/plain": [
       "False"
      ]
     },
     "execution_count": 6,
     "metadata": {},
     "output_type": "execute_result"
    }
   ],
   "source": [
    "df.isnull().values.any()"
   ]
  },
  {
   "cell_type": "markdown",
   "id": "1c0717c5",
   "metadata": {},
   "source": [
    "So there are no null and 'NaN' values. We can proceed further to check if the dataset is imbalanced or not"
   ]
  },
  {
   "cell_type": "code",
   "execution_count": 7,
   "id": "0ffedf48",
   "metadata": {},
   "outputs": [
    {
     "data": {
      "text/plain": [
       "ham     4825\n",
       "spam     747\n",
       "Name: label, dtype: int64"
      ]
     },
     "execution_count": 7,
     "metadata": {},
     "output_type": "execute_result"
    }
   ],
   "source": [
    "df['label'].value_counts()"
   ]
  },
  {
   "cell_type": "code",
   "execution_count": 8,
   "id": "5f928eda",
   "metadata": {},
   "outputs": [
    {
     "data": {
      "text/plain": [
       "0.15481865284974095"
      ]
     },
     "execution_count": 8,
     "metadata": {},
     "output_type": "execute_result"
    }
   ],
   "source": [
    "747/4825"
   ]
  },
  {
   "cell_type": "code",
   "execution_count": 9,
   "id": "96a89a94",
   "metadata": {},
   "outputs": [],
   "source": [
    "# Importing essential libraries for visualization\n",
    "import seaborn as sns\n",
    "import matplotlib.pyplot as plt\n",
    "%matplotlib inline"
   ]
  },
  {
   "cell_type": "code",
   "execution_count": 10,
   "id": "c8845798",
   "metadata": {},
   "outputs": [
    {
     "data": {
      "image/png": "[encoded data removed]",
      "text/plain": [
       "<Figure size 576x576 with 1 Axes>"
      ]
     },
     "metadata": {
      "needs_background": "light"
     },
     "output_type": "display_data"
    }
   ],
   "source": [
    "plt.figure(figsize=(8,8))\n",
    "sns.countplot(x='label', data=df)\n",
    "plt.title('Spam vs. Ham records in imbalanced dataset')\n",
    "plt.xlabel('Labels')\n",
    "plt.ylabel('Count')\n",
    "plt.show()"
   ]
  },
  {
   "cell_type": "markdown",
   "id": "5a23f75c",
   "metadata": {},
   "source": [
    "So it looks like the dataset is imbalanced as we have less 'spam' records. We will handle this using oversampling later"
   ]
  },
  {
   "cell_type": "markdown",
   "id": "91e731db",
   "metadata": {},
   "source": [
    "## Feature Engineering"
   ]
  },
  {
   "cell_type": "markdown",
   "id": "e425fcbc",
   "metadata": {},
   "source": [
    "### Converting target variable 'label' into binary"
   ]
  },
  {
   "cell_type": "code",
   "execution_count": 11,
   "id": "9e99d80b",
   "metadata": {},
   "outputs": [
    {
     "data": {
      "text/html": [
       "<div>\n",
       "<style scoped>\n",
       "    .dataframe tbody tr th:only-of-type {\n",
       "        vertical-align: middle;\n",
       "    }\n",
       "\n",
       "    .dataframe tbody tr th {\n",
       "        vertical-align: top;\n",
       "    }\n",
       "\n",
       "    .dataframe thead th {\n",
       "        text-align: right;\n",
       "    }\n",
       "</style>\n",
       "<table border=\"1\" class=\"dataframe\">\n",
       "  <thead>\n",
       "    <tr style=\"text-align: right;\">\n",
       "      <th></th>\n",
       "      <th>label</th>\n",
       "      <th>message</th>\n",
       "    </tr>\n",
       "  </thead>\n",
       "  <tbody>\n",
       "    <tr>\n",
       "      <th>0</th>\n",
       "      <td>ham</td>\n",
       "      <td>Go until jurong point, crazy.. Available only ...</td>\n",
       "    </tr>\n",
       "    <tr>\n",
       "      <th>1</th>\n",
       "      <td>ham</td>\n",
       "      <td>Ok lar... Joking wif u oni...</td>\n",
       "    </tr>\n",
       "    <tr>\n",
       "      <th>2</th>\n",
       "      <td>spam</td>\n",
       "      <td>Free entry in 2 a wkly comp to win FA Cup fina...</td>\n",
       "    </tr>\n",
       "    <tr>\n",
       "      <th>3</th>\n",
       "      <td>ham</td>\n",
       "      <td>U dun say so early hor... U c already then say...</td>\n",
       "    </tr>\n",
       "    <tr>\n",
       "      <th>4</th>\n",
       "      <td>ham</td>\n",
       "      <td>Nah I don't think he goes to usf, he lives aro...</td>\n",
       "    </tr>\n",
       "  </tbody>\n",
       "</table>\n",
       "</div>"
      ],
      "text/plain": [
       "  label                                            message\n",
       "0   ham  Go until jurong point, crazy.. Available only ...\n",
       "1   ham                      Ok lar... Joking wif u oni...\n",
       "2  spam  Free entry in 2 a wkly comp to win FA Cup fina...\n",
       "3   ham  U dun say so early hor... U c already then say...\n",
       "4   ham  Nah I don't think he goes to usf, he lives aro..."
      ]
     },
     "execution_count": 11,
     "metadata": {},
     "output_type": "execute_result"
    }
   ],
   "source": [
    "main_df = df.copy()\n",
    "main_df.head()"
   ]
  },
  {
   "cell_type": "code",
   "execution_count": 12,
   "id": "72d75d7e",
   "metadata": {},
   "outputs": [],
   "source": [
    "main_df['label'] = main_df['label'].apply(lambda x : 0 if x.lower()== 'ham' else 1)"
   ]
  },
  {
   "cell_type": "code",
   "execution_count": 13,
   "id": "ab887340",
   "metadata": {},
   "outputs": [
    {
     "data": {
      "text/html": [
       "<div>\n",
       "<style scoped>\n",
       "    .dataframe tbody tr th:only-of-type {\n",
       "        vertical-align: middle;\n",
       "    }\n",
       "\n",
       "    .dataframe tbody tr th {\n",
       "        vertical-align: top;\n",
       "    }\n",
       "\n",
       "    .dataframe thead th {\n",
       "        text-align: right;\n",
       "    }\n",
       "</style>\n",
       "<table border=\"1\" class=\"dataframe\">\n",
       "  <thead>\n",
       "    <tr style=\"text-align: right;\">\n",
       "      <th></th>\n",
       "      <th>label</th>\n",
       "      <th>message</th>\n",
       "    </tr>\n",
       "  </thead>\n",
       "  <tbody>\n",
       "    <tr>\n",
       "      <th>0</th>\n",
       "      <td>0</td>\n",
       "      <td>Go until jurong point, crazy.. Available only ...</td>\n",
       "    </tr>\n",
       "    <tr>\n",
       "      <th>1</th>\n",
       "      <td>0</td>\n",
       "      <td>Ok lar... Joking wif u oni...</td>\n",
       "    </tr>\n",
       "    <tr>\n",
       "      <th>2</th>\n",
       "      <td>1</td>\n",
       "      <td>Free entry in 2 a wkly comp to win FA Cup fina...</td>\n",
       "    </tr>\n",
       "    <tr>\n",
       "      <th>3</th>\n",
       "      <td>0</td>\n",
       "      <td>U dun say so early hor... U c already then say...</td>\n",
       "    </tr>\n",
       "    <tr>\n",
       "      <th>4</th>\n",
       "      <td>0</td>\n",
       "      <td>Nah I don't think he goes to usf, he lives aro...</td>\n",
       "    </tr>\n",
       "  </tbody>\n",
       "</table>\n",
       "</div>"
      ],
      "text/plain": [
       "   label                                            message\n",
       "0      0  Go until jurong point, crazy.. Available only ...\n",
       "1      0                      Ok lar... Joking wif u oni...\n",
       "2      1  Free entry in 2 a wkly comp to win FA Cup fina...\n",
       "3      0  U dun say so early hor... U c already then say...\n",
       "4      0  Nah I don't think he goes to usf, he lives aro..."
      ]
     },
     "execution_count": 13,
     "metadata": {},
     "output_type": "execute_result"
    }
   ],
   "source": [
    "main_df.head()"
   ]
  },
  {
   "cell_type": "markdown",
   "id": "c64eb1b2",
   "metadata": {},
   "source": [
    "## Data Preparation"
   ]
  },
  {
   "cell_type": "markdown",
   "id": "10fcfcd3",
   "metadata": {},
   "source": [
    "### Making data preprocessing function"
   ]
  },
  {
   "cell_type": "code",
   "execution_count": 14,
   "id": "c161e2e9",
   "metadata": {},
   "outputs": [],
   "source": [
    "import re\n",
    "import nltk\n",
    "from nltk.corpus import stopwords\n",
    "from nltk.stem import WordNetLemmatizer"
   ]
  },
  {
   "cell_type": "code",
   "execution_count": 15,
   "id": "39954cd9",
   "metadata": {},
   "outputs": [],
   "source": [
    "preprocessed_corpus = []\n",
    "def preprocessData(column):\n",
    "    lemma = WordNetLemmatizer()\n",
    "    for i in range(len(column)):\n",
    "        review = re.sub('\\W', ' ',column[i])\n",
    "        review = review.lower()\n",
    "        review = review.split()\n",
    "        review = [lemma.lemmatize(word) for word in review if word not in set(stopwords.words('english'))]\n",
    "        review = ' '.join(review)\n",
    "        preprocessed_corpus.append(review)"
   ]
  },
  {
   "cell_type": "code",
   "execution_count": 16,
   "id": "4b2c5fb3",
   "metadata": {},
   "outputs": [],
   "source": [
    "preprocessData(main_df['message'])"
   ]
  },
  {
   "cell_type": "code",
   "execution_count": 17,
   "id": "958bc8cb",
   "metadata": {},
   "outputs": [
    {
     "data": {
      "text/plain": [
       "'go jurong point crazy available bugis n great world la e buffet cine got amore wat'"
      ]
     },
     "execution_count": 17,
     "metadata": {},
     "output_type": "execute_result"
    }
   ],
   "source": [
    "preprocessed_corpus[0]"
   ]
  },
  {
   "cell_type": "markdown",
   "id": "d22769b1",
   "metadata": {},
   "source": [
    "Here we can see that our data is processed. Now we have to convert data into numerical values to feed the model"
   ]
  },
  {
   "cell_type": "markdown",
   "id": "bdc8ca1d",
   "metadata": {},
   "source": [
    "### Using Tf-Idf Vectorizer for converting data into numerical values"
   ]
  },
  {
   "cell_type": "code",
   "execution_count": 18,
   "id": "5c73a71d",
   "metadata": {},
   "outputs": [],
   "source": [
    "from sklearn.feature_extraction.text import TfidfVectorizer"
   ]
  },
  {
   "cell_type": "code",
   "execution_count": 19,
   "id": "fe9a5836",
   "metadata": {},
   "outputs": [],
   "source": [
    "vectorize = TfidfVectorizer()\n",
    "X = vectorize.fit_transform(preprocessed_corpus).toarray()"
   ]
  },
  {
   "cell_type": "code",
   "execution_count": 20,
   "id": "1adbccb6",
   "metadata": {},
   "outputs": [],
   "source": [
    "import pickle\n",
    "pickle.dump(vectorize, open('transform.pkl', 'wb'))"
   ]
  },
  {
   "cell_type": "code",
   "execution_count": 21,
   "id": "a2f4161d",
   "metadata": {},
   "outputs": [
    {
     "data": {
      "text/plain": [
       "array([[0., 0., 0., ..., 0., 0., 0.],\n",
       "       [0., 0., 0., ..., 0., 0., 0.],\n",
       "       [0., 0., 0., ..., 0., 0., 0.],\n",
       "       ...,\n",
       "       [0., 0., 0., ..., 0., 0., 0.],\n",
       "       [0., 0., 0., ..., 0., 0., 0.],\n",
       "       [0., 0., 0., ..., 0., 0., 0.]])"
      ]
     },
     "execution_count": 21,
     "metadata": {},
     "output_type": "execute_result"
    }
   ],
   "source": [
    "X"
   ]
  },
  {
   "cell_type": "code",
   "execution_count": 22,
   "id": "30e1b4f8",
   "metadata": {},
   "outputs": [],
   "source": [
    "y = main_df.pop('label')"
   ]
  },
  {
   "cell_type": "code",
   "execution_count": 23,
   "id": "fcfc5ddb",
   "metadata": {},
   "outputs": [
    {
     "name": "stdout",
     "output_type": "stream",
     "text": [
      "(5572, 8054) (5572,)\n"
     ]
    }
   ],
   "source": [
    "print(X.shape,y.shape)"
   ]
  },
  {
   "cell_type": "code",
   "execution_count": 24,
   "id": "7ae055e5",
   "metadata": {},
   "outputs": [
    {
     "name": "stdout",
     "output_type": "stream",
     "text": [
      "Dataset shape Counter({0: 4825, 1: 747})\n"
     ]
    }
   ],
   "source": [
    "from collections import Counter\n",
    "print('Dataset shape {}'.format(Counter(y)))"
   ]
  },
  {
   "cell_type": "markdown",
   "id": "c7fa609e",
   "metadata": {},
   "source": [
    "### Now we will handle imbalancing using over-sampling through imblearn module"
   ]
  },
  {
   "cell_type": "code",
   "execution_count": 25,
   "id": "0525cac9",
   "metadata": {},
   "outputs": [],
   "source": [
    "from imblearn.over_sampling import RandomOverSampler   #Library for over-sampling\n",
    "sampler = RandomOverSampler(sampling_strategy=0.5)\n",
    "X_bal,y_bal = sampler.fit_resample(X,y)"
   ]
  },
  {
   "cell_type": "code",
   "execution_count": 26,
   "id": "f5be205a",
   "metadata": {},
   "outputs": [
    {
     "name": "stdout",
     "output_type": "stream",
     "text": [
      "Original Dataset shape Counter({0: 4825, 1: 747})\n",
      "Balanced Dataset shape Counter({0: 4825, 1: 2412})\n"
     ]
    }
   ],
   "source": [
    "from collections import Counter\n",
    "print('Original Dataset shape {}'.format(Counter(y)))\n",
    "print('Balanced Dataset shape {}'.format(Counter(y_bal)))"
   ]
  },
  {
   "cell_type": "code",
   "execution_count": 27,
   "id": "41bf46af",
   "metadata": {},
   "outputs": [
    {
     "data": {
      "image/png": "[encoded data removed]",
      "text/plain": [
       "<Figure size 576x576 with 1 Axes>"
      ]
     },
     "metadata": {
      "needs_background": "light"
     },
     "output_type": "display_data"
    }
   ],
   "source": [
    "plt.figure(figsize=(8,8))\n",
    "sns.countplot(x=y_bal)\n",
    "plt.title('Spam vs. Ham records in balanced dataset')\n",
    "plt.xlabel('Labels')\n",
    "plt.ylabel('Count')\n",
    "plt.show()"
   ]
  },
  {
   "cell_type": "markdown",
   "id": "3691ff48",
   "metadata": {},
   "source": [
    "Now we have a balanced dataset.We can feed this to our model now"
   ]
  },
  {
   "cell_type": "code",
   "execution_count": 28,
   "id": "b8168911",
   "metadata": {},
   "outputs": [],
   "source": [
    "from sklearn.model_selection import train_test_split\n",
    "X_train, X_test, y_train, y_test = train_test_split(X_bal, y_bal, test_size=0.35, random_state=0, stratify=y_bal)"
   ]
  },
  {
   "cell_type": "markdown",
   "id": "908bcb90",
   "metadata": {},
   "source": [
    "### Naive Bayes model"
   ]
  },
  {
   "cell_type": "code",
   "execution_count": 29,
   "id": "aed9a24e",
   "metadata": {},
   "outputs": [],
   "source": [
    "from sklearn.model_selection import GridSearchCV\n",
    "from sklearn.naive_bayes import MultinomialNB\n",
    "from sklearn.model_selection import StratifiedKFold"
   ]
  },
  {
   "cell_type": "code",
   "execution_count": 30,
   "id": "c3f3a4c5",
   "metadata": {},
   "outputs": [],
   "source": [
    "NBclassifier = MultinomialNB()\n",
    "stratified_cv = StratifiedKFold(n_splits = 5)\n",
    "params = {'alpha' : [0.1,0.2,0.3,0.4,0.5,0.6,0.7,0.8,0.9,1.0]}\n",
    "NBmodel = GridSearchCV(estimator = NBclassifier,\n",
    "                     param_grid=params,\n",
    "                     cv = stratified_cv,\n",
    "                     scoring = 'recall',\n",
    "                     verbose = 1,\n",
    "                     n_jobs=-1)"
   ]
  },
  {
   "cell_type": "code",
   "execution_count": 31,
   "id": "92c36325",
   "metadata": {},
   "outputs": [
    {
     "name": "stdout",
     "output_type": "stream",
     "text": [
      "Fitting 5 folds for each of 10 candidates, totalling 50 fits\n"
     ]
    },
    {
     "name": "stderr",
     "output_type": "stream",
     "text": [
      "[Parallel(n_jobs=-1)]: Using backend LokyBackend with 8 concurrent workers.\n",
      "[Parallel(n_jobs=-1)]: Done  34 tasks      | elapsed:   21.8s\n",
      "[Parallel(n_jobs=-1)]: Done  50 out of  50 | elapsed:   24.3s finished\n"
     ]
    },
    {
     "data": {
      "text/plain": [
       "GridSearchCV(cv=StratifiedKFold(n_splits=5, random_state=None, shuffle=False),\n",
       "             estimator=MultinomialNB(), n_jobs=-1,\n",
       "             param_grid={'alpha': [0.1, 0.2, 0.3, 0.4, 0.5, 0.6, 0.7, 0.8, 0.9,\n",
       "                                   1.0]},\n",
       "             scoring='recall', verbose=1)"
      ]
     },
     "execution_count": 31,
     "metadata": {},
     "output_type": "execute_result"
    }
   ],
   "source": [
    "NBmodel.fit(X_train,y_train)"
   ]
  },
  {
   "cell_type": "code",
   "execution_count": 32,
   "id": "190c970c",
   "metadata": {},
   "outputs": [
    {
     "name": "stdout",
     "output_type": "stream",
     "text": [
      "Best Recall:  0.985336073746973\n",
      "Best alpha value:  {'alpha': 0.1}\n"
     ]
    }
   ],
   "source": [
    "print(\"Best Recall: \", NBmodel.best_score_)\n",
    "print(\"Best alpha value: \", NBmodel.best_params_)"
   ]
  },
  {
   "cell_type": "code",
   "execution_count": 33,
   "id": "32bf7e1b",
   "metadata": {},
   "outputs": [
    {
     "data": {
      "text/plain": [
       "MultinomialNB(alpha=0.1)"
      ]
     },
     "execution_count": 33,
     "metadata": {},
     "output_type": "execute_result"
    }
   ],
   "source": [
    "NBclassifier_final = MultinomialNB(alpha = 0.1)\n",
    "NBclassifier_final.fit(X_train,y_train)"
   ]
  },
  {
   "cell_type": "code",
   "execution_count": 34,
   "id": "c195dede",
   "metadata": {},
   "outputs": [
    {
     "data": {
      "text/plain": [
       "array([1, 1, 1, ..., 0, 1, 0], dtype=int64)"
      ]
     },
     "execution_count": 34,
     "metadata": {},
     "output_type": "execute_result"
    }
   ],
   "source": [
    "y_pred_NB = NBclassifier_final.predict(X_test)\n",
    "y_pred_NB"
   ]
  },
  {
   "cell_type": "code",
   "execution_count": 35,
   "id": "2634e06d",
   "metadata": {},
   "outputs": [
    {
     "name": "stdout",
     "output_type": "stream",
     "text": [
      "              precision    recall  f1-score   support\n",
      "\n",
      "           0       0.99      0.99      0.99      1689\n",
      "           1       0.98      0.98      0.98       844\n",
      "\n",
      "    accuracy                           0.99      2533\n",
      "   macro avg       0.98      0.98      0.98      2533\n",
      "weighted avg       0.99      0.99      0.99      2533\n",
      "\n"
     ]
    }
   ],
   "source": [
    "from sklearn.metrics import classification_report,confusion_matrix\n",
    "print(classification_report(y_test,y_pred_NB))"
   ]
  },
  {
   "cell_type": "code",
   "execution_count": 36,
   "id": "a06ef3cb",
   "metadata": {},
   "outputs": [
    {
     "data": {
      "image/png": "[encoded data removed]",
      "text/plain": [
       "<Figure size 576x360 with 2 Axes>"
      ]
     },
     "metadata": {
      "needs_background": "light"
     },
     "output_type": "display_data"
    }
   ],
   "source": [
    "# Confusion matrix of MNB model\n",
    "cm = confusion_matrix(y_test, y_pred_NB)\n",
    "\n",
    "plt.figure(figsize=(8,5))\n",
    "axis_labels = ['ham', 'spam']\n",
    "g = sns.heatmap(data=cm, annot=True, cmap=\"Blues\", xticklabels=axis_labels, yticklabels=axis_labels, fmt='g', cbar_kws={\"shrink\": 0.5})\n",
    "p = plt.xlabel('Actual values')\n",
    "p = plt.ylabel('Predicted values')\n",
    "p = plt.title('--- Confusion Matrix for Multinomial Naive Bayes model ---')\n"
   ]
  },
  {
   "cell_type": "markdown",
   "id": "dddcc2e0",
   "metadata": {},
   "source": [
    "### RandomForests model"
   ]
  },
  {
   "cell_type": "code",
   "execution_count": 37,
   "id": "013dbd54",
   "metadata": {},
   "outputs": [],
   "source": [
    "from sklearn.ensemble import RandomForestClassifier"
   ]
  },
  {
   "cell_type": "code",
   "execution_count": 38,
   "id": "4469b1f3",
   "metadata": {},
   "outputs": [],
   "source": [
    "classifier_RF = RandomForestClassifier()\n",
    "params_RF = {'n_estimators' : [10,15,20,25,30]}\n",
    "model_RF = GridSearchCV(estimator = classifier_RF,\n",
    "                     param_grid = params_RF,\n",
    "                     cv = stratified_cv,\n",
    "                     scoring = 'recall',\n",
    "                     verbose = 1,\n",
    "                     n_jobs=-1)"
   ]
  },
  {
   "cell_type": "code",
   "execution_count": 39,
   "id": "7cf0e7b8",
   "metadata": {},
   "outputs": [
    {
     "name": "stdout",
     "output_type": "stream",
     "text": [
      "Fitting 5 folds for each of 5 candidates, totalling 25 fits\n"
     ]
    },
    {
     "name": "stderr",
     "output_type": "stream",
     "text": [
      "[Parallel(n_jobs=-1)]: Using backend LokyBackend with 8 concurrent workers.\n",
      "[Parallel(n_jobs=-1)]: Done  25 out of  25 | elapsed:  1.1min finished\n"
     ]
    },
    {
     "data": {
      "text/plain": [
       "GridSearchCV(cv=StratifiedKFold(n_splits=5, random_state=None, shuffle=False),\n",
       "             estimator=RandomForestClassifier(), n_jobs=-1,\n",
       "             param_grid={'n_estimators': [10, 15, 20, 25, 30]},\n",
       "             scoring='recall', verbose=1)"
      ]
     },
     "execution_count": 39,
     "metadata": {},
     "output_type": "execute_result"
    }
   ],
   "source": [
    "model_RF.fit(X_train,y_train)"
   ]
  },
  {
   "cell_type": "code",
   "execution_count": 40,
   "id": "e6e72511",
   "metadata": {},
   "outputs": [
    {
     "name": "stdout",
     "output_type": "stream",
     "text": [
      "Best Recall for RF:  0.9795852750249283\n",
      "Best number of estimators:  {'n_estimators': 30}\n"
     ]
    }
   ],
   "source": [
    "print(\"Best Recall for RF: \", model_RF.best_score_)\n",
    "print(\"Best number of estimators: \", model_RF.best_params_)"
   ]
  },
  {
   "cell_type": "code",
   "execution_count": 41,
   "id": "c48ef086",
   "metadata": {},
   "outputs": [],
   "source": [
    "classifier_RF_final = RandomForestClassifier(n_estimators=model_RF.best_params_['n_estimators'])"
   ]
  },
  {
   "cell_type": "code",
   "execution_count": 42,
   "id": "6d8d455a",
   "metadata": {},
   "outputs": [
    {
     "data": {
      "text/plain": [
       "RandomForestClassifier(n_estimators=30)"
      ]
     },
     "execution_count": 42,
     "metadata": {},
     "output_type": "execute_result"
    }
   ],
   "source": [
    "classifier_RF_final.fit(X_train,y_train)"
   ]
  },
  {
   "cell_type": "code",
   "execution_count": 43,
   "id": "0e74a507",
   "metadata": {},
   "outputs": [
    {
     "data": {
      "text/plain": [
       "array([1, 1, 1, ..., 0, 1, 0], dtype=int64)"
      ]
     },
     "execution_count": 43,
     "metadata": {},
     "output_type": "execute_result"
    }
   ],
   "source": [
    "y_pred_RF = classifier_RF_final.predict(X_test)\n",
    "y_pred_RF"
   ]
  },
  {
   "cell_type": "code",
   "execution_count": 44,
   "id": "00363a8c",
   "metadata": {},
   "outputs": [
    {
     "name": "stdout",
     "output_type": "stream",
     "text": [
      "              precision    recall  f1-score   support\n",
      "\n",
      "           0       0.99      1.00      0.99      1689\n",
      "           1       1.00      0.98      0.99       844\n",
      "\n",
      "    accuracy                           0.99      2533\n",
      "   macro avg       0.99      0.99      0.99      2533\n",
      "weighted avg       0.99      0.99      0.99      2533\n",
      "\n"
     ]
    }
   ],
   "source": [
    "print(classification_report(y_test,y_pred_RF))"
   ]
  },
  {
   "cell_type": "code",
   "execution_count": 45,
   "id": "adae5df3",
   "metadata": {},
   "outputs": [
    {
     "data": {
      "image/png": "[encoded data removed]",
      "text/plain": [
       "<Figure size 576x360 with 2 Axes>"
      ]
     },
     "metadata": {
      "needs_background": "light"
     },
     "output_type": "display_data"
    }
   ],
   "source": [
    "# Confusion matrix of RF model\n",
    "cm = confusion_matrix(y_test, y_pred_RF)\n",
    "\n",
    "plt.figure(figsize=(8,5))\n",
    "axis_labels = ['ham', 'spam']\n",
    "g = sns.heatmap(data=cm, annot=True, cmap=\"Blues\", xticklabels=axis_labels, yticklabels=axis_labels, fmt='g', cbar_kws={\"shrink\": 0.5})\n",
    "p = plt.xlabel('Actual values')\n",
    "p = plt.ylabel('Predicted values')\n",
    "p = plt.title('--- Confusion Matrix for Multinomial Naive Bayes model ---')"
   ]
  },
  {
   "cell_type": "markdown",
   "id": "12284d20",
   "metadata": {},
   "source": [
    "So we have got better results in RandomForestsClassifier. We will save this model for later use"
   ]
  },
  {
   "cell_type": "markdown",
   "id": "354c7419",
   "metadata": {},
   "source": [
    "### Making Sample predictions"
   ]
  },
  {
   "cell_type": "code",
   "execution_count": 46,
   "id": "aa5b4a7d",
   "metadata": {},
   "outputs": [],
   "source": [
    "def predict(sample_msg):\n",
    "    lemma = WordNetLemmatizer()\n",
    "    review = re.sub('\\W', ' ',sample_msg)\n",
    "    review = review.lower()\n",
    "    review = review.split()\n",
    "    review = [lemma.lemmatize(word) for word in review if word not in set(stopwords.words('english'))]\n",
    "    review = ' '.join(review)\n",
    "    \n",
    "    final_review = vectorize.transform([review]).toarray()\n",
    "    print(final_review)\n",
    "    prediction = classifier_RF_final.predict(final_review)\n",
    "    print(prediction)"
   ]
  },
  {
   "cell_type": "code",
   "execution_count": 47,
   "id": "51d58243",
   "metadata": {},
   "outputs": [
    {
     "name": "stdout",
     "output_type": "stream",
     "text": [
      "[[0. 0. 0. ... 0. 0. 0.]]\n",
      "[0]\n"
     ]
    }
   ],
   "source": [
    "sample_message = 'IMPORTANT - You could be entitled up to £3,160 in compensation from mis-sold PPI on a credit card or loan. Please reply PPI for info or STOP to opt out.'\n",
    "predict(sample_message)"
   ]
  },
  {
   "cell_type": "code",
   "execution_count": 48,
   "id": "15529717",
   "metadata": {},
   "outputs": [],
   "source": [
    "pickle.dump(classifier_RF_final, open('model.pkl', 'wb'))"
   ]
  },
  {
   "cell_type": "code",
   "execution_count": 49,
   "id": "5e68c265",
   "metadata": {},
   "outputs": [
    {
     "name": "stdout",
     "output_type": "stream",
     "text": [
      "[[0. 0. 0. ... 0. 0. 0.]]\n",
      "[0]\n"
     ]
    }
   ],
   "source": [
    "predict(\"Ok lar... Joking wif u oni...\")"
   ]
  },
  {
   "cell_type": "code",
   "execution_count": 50,
   "id": "28f21e77",
   "metadata": {},
   "outputs": [
    {
     "name": "stdout",
     "output_type": "stream",
     "text": [
      "[[0. 0. 0. ... 0. 0. 0.]]\n",
      "[1]\n"
     ]
    }
   ],
   "source": [
    "predict(\"Had your mobile 11 months or more? U R entitled to Update to the latest colour mobiles with camera for Free! Call The Mobile Update Co FREE on 08002986030\")"
   ]
  },
  {
   "cell_type": "markdown",
   "id": "f90f48c8",
   "metadata": {},
   "source": [
    "So our model is predicting fine!!!!"
   ]
  }
 ],
 "metadata": {
  "kernelspec": {
   "display_name": "Python 3 (ipykernel)",
   "language": "python",
   "name": "python3"
  },
  "language_info": {
   "codemirror_mode": {
    "name": "ipython",
    "version": 3
   },
   "file_extension": ".py",
   "mimetype": "text/x-python",
   "name": "python",
   "nbconvert_exporter": "python",
   "pygments_lexer": "ipython3",
   "version": "3.8.12"
  }
 },
 "nbformat": 4,
 "nbformat_minor": 5
}
